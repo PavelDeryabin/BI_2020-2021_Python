{
 "cells": [
  {
   "cell_type": "code",
   "execution_count": 142,
   "metadata": {},
   "outputs": [],
   "source": [
    "class Nucleic_acids:\n",
    "    \n",
    "    def __init__(self, seq):\n",
    "        self.sequence = seq\n",
    "    \n",
    "    def gc_content(self):\n",
    "        gc_nucleotides = 0\n",
    "        for nucleotide in self.sequence:\n",
    "            if nucleotide in [\"G\", \"C\"]:\n",
    "                gc_nucleotides += 1\n",
    "        return round((gc_nucleotides / len(self.sequence)) * 100)\n",
    "    \n",
    "    def __iter__(self):\n",
    "        self.nucleotide = 0\n",
    "        return self\n",
    "\n",
    "    def __next__(self):\n",
    "        if self.nucleotide < len(self.sequence):\n",
    "            nucleotide = self.sequence[self.nucleotide]\n",
    "            self.nucleotide += 1\n",
    "            return nucleotide\n",
    "        else:\n",
    "            raise StopIteration\n",
    "    \n",
    "    def __hash__(self):\n",
    "        return hash(self.sequence)\n",
    "    \n",
    "    def __eq__(self, other):\n",
    "        return self.sequence == other.sequence\n",
    "    \n",
    "    \n",
    "class Dna(Nucleic_acids):\n",
    "    \n",
    "    def reverse_complement(self):\n",
    "        complementary_Ns = {'A': 'T', 'T': 'A', 'G': 'C', 'C': 'G'}\n",
    "        result = ''\n",
    "        for nucleotide in self.sequence[::-1]:\n",
    "            result += complementary_Ns[nucleotide]\n",
    "        return result\n",
    "    \n",
    "    def transcribe(self):\n",
    "        return Rna(self.sequence.replace('T', 'U'))\n",
    "\n",
    "        \n",
    "class Rna(Nucleic_acids):\n",
    "    \n",
    "    def reverse_complement(self):\n",
    "        complementary_Ns = {'A': 'U', 'U': 'A', 'G': 'C', 'C': 'G'}\n",
    "        result = ''\n",
    "        for nucleotide in self.sequence[::-1]:\n",
    "            result += complementary_Ns[nucleotide]\n",
    "        return result\n"
   ]
  },
  {
   "cell_type": "code",
   "execution_count": 143,
   "metadata": {},
   "outputs": [],
   "source": [
    "test_seq = Dna(\"AATGCC\")"
   ]
  },
  {
   "cell_type": "code",
   "execution_count": 144,
   "metadata": {},
   "outputs": [
    {
     "data": {
      "text/plain": [
       "'AATGCC'"
      ]
     },
     "execution_count": 144,
     "metadata": {},
     "output_type": "execute_result"
    }
   ],
   "source": [
    "test_seq.sequence"
   ]
  },
  {
   "cell_type": "code",
   "execution_count": 145,
   "metadata": {},
   "outputs": [
    {
     "data": {
      "text/plain": [
       "50"
      ]
     },
     "execution_count": 145,
     "metadata": {},
     "output_type": "execute_result"
    }
   ],
   "source": [
    "test_seq.gc_content()"
   ]
  },
  {
   "cell_type": "code",
   "execution_count": 146,
   "metadata": {},
   "outputs": [
    {
     "data": {
      "text/plain": [
       "'GGCATT'"
      ]
     },
     "execution_count": 146,
     "metadata": {},
     "output_type": "execute_result"
    }
   ],
   "source": [
    "test_seq.reverse_complement()"
   ]
  },
  {
   "cell_type": "code",
   "execution_count": 147,
   "metadata": {},
   "outputs": [
    {
     "data": {
      "text/plain": [
       "<__main__.Rna at 0x7f0b3a2076a0>"
      ]
     },
     "execution_count": 147,
     "metadata": {},
     "output_type": "execute_result"
    }
   ],
   "source": [
    "test_seq_transcribed = test_seq.transcribe()\n",
    "test_seq_transcribed"
   ]
  },
  {
   "cell_type": "code",
   "execution_count": 148,
   "metadata": {},
   "outputs": [
    {
     "data": {
      "text/plain": [
       "'AAUGCC'"
      ]
     },
     "execution_count": 148,
     "metadata": {},
     "output_type": "execute_result"
    }
   ],
   "source": [
    "test_seq_transcribed.sequence"
   ]
  },
  {
   "cell_type": "code",
   "execution_count": 149,
   "metadata": {},
   "outputs": [],
   "source": [
    "test_seq_transcribed_iter = iter(test_seq_transcribed)"
   ]
  },
  {
   "cell_type": "code",
   "execution_count": 150,
   "metadata": {},
   "outputs": [
    {
     "name": "stdout",
     "output_type": "stream",
     "text": [
      "A\n",
      "A\n",
      "U\n",
      "G\n",
      "C\n",
      "C\n"
     ]
    }
   ],
   "source": [
    "for i in test_seq_transcribed_iter:\n",
    "    print(i)"
   ]
  },
  {
   "cell_type": "code",
   "execution_count": 153,
   "metadata": {},
   "outputs": [],
   "source": [
    "new_seq_equal_to_test_seq_transcribed = Rna('AAUGCC')"
   ]
  },
  {
   "cell_type": "code",
   "execution_count": 154,
   "metadata": {},
   "outputs": [
    {
     "data": {
      "text/plain": [
       "True"
      ]
     },
     "execution_count": 154,
     "metadata": {},
     "output_type": "execute_result"
    }
   ],
   "source": [
    "test_seq_transcribed == new_seq_equal_to_test_seq_transcribed"
   ]
  }
 ],
 "metadata": {
  "kernelspec": {
   "display_name": "Python 3",
   "language": "python",
   "name": "python3"
  },
  "language_info": {
   "codemirror_mode": {
    "name": "ipython",
    "version": 3
   },
   "file_extension": ".py",
   "mimetype": "text/x-python",
   "name": "python",
   "nbconvert_exporter": "python",
   "pygments_lexer": "ipython3",
   "version": "3.8.5"
  }
 },
 "nbformat": 4,
 "nbformat_minor": 4
}
